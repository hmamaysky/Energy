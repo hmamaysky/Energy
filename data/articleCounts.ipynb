{
 "cells": [
  {
   "cell_type": "code",
   "execution_count": 3,
   "id": "c240e032",
   "metadata": {},
   "outputs": [],
   "source": [
    "import pandas as pd\n",
    "from glob import glob\n",
    "from tqdm import tqdm"
   ]
  },
  {
   "cell_type": "code",
   "execution_count": 4,
   "id": "615b3e8d",
   "metadata": {},
   "outputs": [
    {
     "name": "stderr",
     "output_type": "stream",
     "text": [
      "100%|█████████████████████████████████████████| 326/326 [17:12<00:00,  3.17s/it]\n"
     ]
    }
   ],
   "source": [
    "files = glob('/shared/share_mamaysky-glasserman/energy_drivers/2023/DataProcessing/info/*.csv')\n",
    "total_rows = 0\n",
    "for file in tqdm(files):\n",
    "    df = pd.read_csv(file)\n",
    "    total_rows += len(df)"
   ]
  },
  {
   "cell_type": "code",
   "execution_count": 5,
   "id": "6d37cbb8",
   "metadata": {},
   "outputs": [
    {
     "data": {
      "text/plain": [
       "39773201"
      ]
     },
     "execution_count": 5,
     "metadata": {},
     "output_type": "execute_result"
    }
   ],
   "source": [
    "total_rows"
   ]
  },
  {
   "cell_type": "code",
   "execution_count": null,
   "id": "17b6359b",
   "metadata": {},
   "outputs": [],
   "source": []
  },
  {
   "cell_type": "code",
   "execution_count": 9,
   "id": "766836c9",
   "metadata": {},
   "outputs": [
    {
     "name": "stderr",
     "output_type": "stream",
     "text": [
      "100%|█████████████████████████████████████████| 326/326 [01:04<00:00,  5.04it/s]\n"
     ]
    }
   ],
   "source": [
    "files = glob('/shared/share_mamaysky-glasserman/energy_drivers/2023/DataProcessing/oil_info/*.csv')\n",
    "files.sort()\n",
    "total_rows = 0\n",
    "for file in tqdm(files):\n",
    "    df = pd.read_csv(file)\n",
    "    total_rows += len(df)"
   ]
  },
  {
   "cell_type": "code",
   "execution_count": 10,
   "id": "af5c701b",
   "metadata": {},
   "outputs": [
    {
     "data": {
      "text/plain": [
       "2280527"
      ]
     },
     "execution_count": 10,
     "metadata": {},
     "output_type": "execute_result"
    }
   ],
   "source": [
    "total_rows"
   ]
  }
 ],
 "metadata": {
  "kernelspec": {
   "display_name": "Python 3 (ipykernel)",
   "language": "python",
   "name": "python3"
  },
  "language_info": {
   "codemirror_mode": {
    "name": "ipython",
    "version": 3
   },
   "file_extension": ".py",
   "mimetype": "text/x-python",
   "name": "python",
   "nbconvert_exporter": "python",
   "pygments_lexer": "ipython3",
   "version": "3.9.16"
  }
 },
 "nbformat": 4,
 "nbformat_minor": 5
}
